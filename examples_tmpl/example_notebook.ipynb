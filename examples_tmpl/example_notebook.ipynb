{
 "cells": [
  {
   "cell_type": "code",
   "execution_count": 1,
   "id": "b342cc6e",
   "metadata": {},
   "outputs": [
    {
     "name": "stderr",
     "output_type": "stream",
     "text": [
      "/Users/stables/git/oq-gem-taxonomy/.venv/lib/python3.12/site-packages/openquake/__init__.py:19: UserWarning: pkg_resources is deprecated as an API. See https://setuptools.pypa.io/en/latest/pkg_resources.html. The pkg_resources package is slated for removal as early as 2025-11-30. Refrain from using this package or pin to Setuptools<81.\n",
      "  __import__('pkg_resources').declare_namespace(__name__)\n"
     ]
    }
   ],
   "source": [
    "from openquake.gem_taxonomy import GemTaxonomy\n",
    "\n",
    "gt = GemTaxonomy()"
   ]
  },
  {
   "cell_type": "code",
   "execution_count": 2,
   "id": "7cf8fb05",
   "metadata": {},
   "outputs": [],
   "source": [
    "\n",
    "def validate_gem_taxonomy(value):\n",
    "    try:\n",
    "        gt.validate(value)\n",
    "    except ValueError as e:\n",
    "        print(f\"Error: {e}\")\n",
    "        return f'{value}: {e}'\n",
    "\n",
    "\n",
    "def extract_attributes(value):\n",
    "        # Function to extract attributes\n",
    "        attr_dict = gt.split_by_attributes(value, '|', 0, 'others')\n",
    "        return attr_dict"
   ]
  },
  {
   "cell_type": "code",
   "execution_count": null,
   "id": "915585da",
   "metadata": {},
   "outputs": [
    {
     "data": {
      "text/plain": [
       "{'height': 'H:2'}"
      ]
     },
     "execution_count": 3,
     "metadata": {},
     "output_type": "execute_result"
    }
   ],
   "source": [
    "# input your own taxonomy here\n",
    "extract_attributes(\"H:2\")"
   ]
  }
 ],
 "metadata": {
  "kernelspec": {
   "display_name": ".venv",
   "language": "python",
   "name": "python3"
  },
  "language_info": {
   "codemirror_mode": {
    "name": "ipython",
    "version": 3
   },
   "file_extension": ".py",
   "mimetype": "text/x-python",
   "name": "python",
   "nbconvert_exporter": "python",
   "pygments_lexer": "ipython3",
   "version": "3.12.11"
  }
 },
 "nbformat": 4,
 "nbformat_minor": 5
}
